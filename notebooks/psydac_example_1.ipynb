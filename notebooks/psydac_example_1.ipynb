{
 "cells": [
  {
   "cell_type": "markdown",
   "metadata": {},
   "source": [
    "# Convection-Diffusion "
   ]
  },
  {
   "cell_type": "code",
   "execution_count": 25,
   "metadata": {},
   "outputs": [],
   "source": [
    "from sympde.core     import Constant\n",
    "from sympde.topology import dx\n",
    "from sympde.topology import ScalarFunctionSpace\n",
    "from sympde.topology import Line\n",
    "from sympde.topology import element_of\n",
    "from sympde.expr     import BilinearForm\n",
    "from sympde.expr     import integral\n",
    "\n",
    "from gelato          import GltExpr\n",
    "from psydac.api.discretization      import discretize\n",
    "from scipy.linalg import eig as eig_solver\n",
    "import matplotlib.pyplot as plt"
   ]
  },
  {
   "cell_type": "code",
   "execution_count": null,
   "metadata": {},
   "outputs": [],
   "source": []
  },
  {
   "cell_type": "code",
   "execution_count": 18,
   "metadata": {},
   "outputs": [],
   "source": [
    "# abstract model\n",
    "domain = Line()\n",
    "\n",
    "V = ScalarFunctionSpace('V', domain)\n",
    "\n",
    "u = element_of(V, name='u')\n",
    "v = element_of(V, name='v')\n",
    "\n",
    "alpha = Constant('alpha', real=True)\n",
    "beta = Constant('beta', real=True)\n",
    "\n",
    "expr = beta*dx(v)*dx(u) + alpha*dx(u)*v\n",
    "a = BilinearForm((v,u), integral(domain, expr))\n",
    "\n",
    "glt_a = GltExpr(a)"
   ]
  },
  {
   "cell_type": "code",
   "execution_count": 19,
   "metadata": {},
   "outputs": [],
   "source": [
    "# define numer of cells\n",
    "ne    = 64\n",
    "\n",
    "# spline degree\n",
    "degree = 3\n",
    "\n",
    "# Peclet number\n",
    "# [0.1, 0.25, 0.9, 5]\n",
    "Pe = 0.25\n",
    "\n",
    "alpha = 1.\n",
    "h     = 1./ne\n",
    "beta  = alpha * h / (2. * Pe)"
   ]
  },
  {
   "cell_type": "code",
   "execution_count": 20,
   "metadata": {},
   "outputs": [],
   "source": [
    "# create the computational domain from a topological domain\n",
    "domain_h = discretize(domain, ncells=[ne])\n",
    "\n",
    "# discrete spaces\n",
    "Vh = discretize(V, domain_h, degree=[degree])\n",
    "\n",
    "# dsicretize the equation using Dirichlet bc\n",
    "ah = discretize(a, domain_h, [Vh, Vh])\n",
    "\n",
    "# dsicretize the glt symbol\n",
    "glt_ah = discretize(glt_a, domain_h, [Vh, Vh])"
   ]
  },
  {
   "cell_type": "code",
   "execution_count": 21,
   "metadata": {},
   "outputs": [],
   "source": [
    "# approximate the eigenvalues using the GLT symbol\n",
    "eigh = glt_ah.eig(alpha=alpha, beta=beta)\n",
    "eigh_r = eigh.real\n",
    "eigh_i = eigh.imag"
   ]
  },
  {
   "cell_type": "code",
   "execution_count": 23,
   "metadata": {},
   "outputs": [],
   "source": [
    "# compute eigenvalues using LAPACK eigenvalue solver\n",
    "M = ah.assemble(alpha=alpha, beta=beta).tosparse().todense()\n",
    "w, v = eig_solver(M)\n",
    "eig_r = w.real\n",
    "eig_i = w.imag"
   ]
  },
  {
   "cell_type": "code",
   "execution_count": 27,
   "metadata": {},
   "outputs": [
    {
     "data": {
      "image/png": "[encoded data removed]",
      "text/plain": [
       "<Figure size 432x288 with 1 Axes>"
      ]
     },
     "metadata": {
      "needs_background": "light"
     },
     "output_type": "display_data"
    }
   ],
   "source": [
    "title = 'Eigenvalues distribution for $P_e = {Pe}$'\n",
    "\n",
    "plt.plot(eigh_r, eigh_i, \"+b\", label=\"glt symbol\")\n",
    "plt.plot(eig_r, eig_i, \"xr\", label=\"eigenvalues\")\n",
    "plt.legend(loc=2);\n",
    "\n",
    "plt.title(title.format(Pe=Pe))\n",
    "plt.xlabel('Real part')\n",
    "plt.ylabel('Imaginary part');"
   ]
  },
  {
   "cell_type": "code",
   "execution_count": null,
   "metadata": {},
   "outputs": [],
   "source": []
  }
 ],
 "metadata": {
  "kernelspec": {
   "display_name": "Python 3",
   "language": "python",
   "name": "python3"
  },
  "language_info": {
   "codemirror_mode": {
    "name": "ipython",
    "version": 3
   },
   "file_extension": ".py",
   "mimetype": "text/x-python",
   "name": "python",
   "nbconvert_exporter": "python",
   "pygments_lexer": "ipython3",
   "version": "3.6.8"
  }
 },
 "nbformat": 4,
 "nbformat_minor": 2
}
