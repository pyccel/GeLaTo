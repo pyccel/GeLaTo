{
 "cells": [
  {
   "cell_type": "markdown",
   "metadata": {},
   "source": [
    "# 2D Anisotropic Diffusion (non coercive case)"
   ]
  },
  {
   "cell_type": "markdown",
   "metadata": {},
   "source": [
    "We consider the study and analysis of the eigenvalue problem associated to the following anisotropic diffusion operator\n",
    "$$\n",
    "    - \\nabla \\cdot \\left( \\mathbf{b} \\otimes \\mathbf{b} \\nabla \\phi \\right) = \\omega^2 \\phi\n",
    "$$\n",
    "where $\\mathbf{b} = (\\iota, 1)$ is the normalized vector of the magnetic field.\n",
    "\n",
    "In fact, the original problem is 3D and the iota profile is given as\n",
    "\n",
    "$$\n",
    "\\iota(r) = 0.47262 + 0.32392 r + 0.49604 r^2 + 5.3991 . 10^{-6} r^3 - 3.165 . 10^{-5} r^4 + 4.7963 . 10^{-5} r^5 - 2.2824 . 10^{-5} r^6\n",
    "$$\n",
    "\n",
    "which is the LHD-$\\iota$-profile. "
   ]
  },
  {
   "cell_type": "markdown",
   "metadata": {},
   "source": [
    "## Formal model"
   ]
  },
  {
   "cell_type": "code",
   "execution_count": 19,
   "metadata": {},
   "outputs": [],
   "source": [
    "from sympy.core.containers import Tuple\n",
    "from sympy import Function\n",
    "from IPython.display import Math\n",
    "\n",
    "from sympde.core     import Constant\n",
    "from sympde.calculus import grad, dot\n",
    "from sympde.topology import ScalarFunctionSpace\n",
    "from sympde.topology import Domain\n",
    "from sympde.topology import elements_of\n",
    "from sympde.expr     import BilinearForm\n",
    "from sympde.expr     import integral\n",
    "\n",
    "DIM = 2\n",
    "domain = Domain('\\Omega', dim=DIM)\n",
    "x,y = domain.coordinates\n",
    "\n",
    "V = ScalarFunctionSpace('V', domain)\n",
    "\n",
    "u,v = elements_of(V, names='u,v')\n",
    "\n",
    "#bx = Constant('b_x')\n",
    "#by = Constant('b_y')\n",
    "#b  = Tuple(bx, by)\n",
    "\n",
    "bx = Function('b_x')\n",
    "by = Function('b_y')\n",
    "b = Tuple(bx(x,y), by(x,y))\n",
    "\n",
    "expr = integral(domain, dot(b, grad(v)) * dot(b, grad(u))) \n",
    "a = BilinearForm((u,v), expr)\n",
    "\n",
    "mass = BilinearForm((u,v), integral(domain, u*v))"
   ]
  },
  {
   "cell_type": "markdown",
   "metadata": {},
   "source": [
    "## Symbolic expression"
   ]
  },
  {
   "cell_type": "code",
   "execution_count": 20,
   "metadata": {},
   "outputs": [],
   "source": [
    "# imports from gelato\n",
    "from gelato.expr     import gelatize\n",
    "from gelato.printing import latex"
   ]
  },
  {
   "cell_type": "markdown",
   "metadata": {},
   "source": [
    "We compute the GLT expression by calling the function **gelatize** for a given degree $p$"
   ]
  },
  {
   "cell_type": "code",
   "execution_count": 21,
   "metadata": {},
   "outputs": [],
   "source": [
    "glt = gelatize(a, degrees=[3,3])"
   ]
  },
  {
   "cell_type": "code",
   "execution_count": 22,
   "metadata": {},
   "outputs": [
    {
     "data": {
      "text/latex": [
       "$\\displaystyle \\frac{n_{x} \\left(- \\frac{\\cos{\\left (\\theta_x \\right )}}{4} - \\frac{2 \\cos{\\left (2 \\theta_x \\right )}}{5} - \\frac{\\cos{\\left (3 \\theta_x \\right )}}{60} + \\frac{2}{3}\\right) \\left(\\frac{397 \\cos{\\left (\\theta_y \\right )}}{840} + \\frac{\\cos{\\left (2 \\theta_y \\right )}}{21} + \\frac{\\cos{\\left (3 \\theta_y \\right )}}{2520} + \\frac{151}{315}\\right) \\operatorname{b_{x}}^{2}{\\left (x,y \\right )}}{n_{y}} + 2 \\left(- \\frac{49 \\sin{\\left (\\theta_x \\right )}}{72} - \\frac{7 \\sin{\\left (2 \\theta_x \\right )}}{45} - \\frac{\\sin{\\left (3 \\theta_x \\right )}}{360}\\right) \\left(- \\frac{49 \\sin{\\left (\\theta_y \\right )}}{72} - \\frac{7 \\sin{\\left (2 \\theta_y \\right )}}{45} - \\frac{\\sin{\\left (3 \\theta_y \\right )}}{360}\\right) \\operatorname{b_{x}}{\\left (x,y \\right )} \\operatorname{b_{y}}{\\left (x,y \\right )} + \\frac{n_{y} \\left(\\frac{397 \\cos{\\left (\\theta_x \\right )}}{840} + \\frac{\\cos{\\left (2 \\theta_x \\right )}}{21} + \\frac{\\cos{\\left (3 \\theta_x \\right )}}{2520} + \\frac{151}{315}\\right) \\left(- \\frac{\\cos{\\left (\\theta_y \\right )}}{4} - \\frac{2 \\cos{\\left (2 \\theta_y \\right )}}{5} - \\frac{\\cos{\\left (3 \\theta_y \\right )}}{60} + \\frac{2}{3}\\right) \\operatorname{b_{y}}^{2}{\\left (x,y \\right )}}{n_{x}}$"
      ],
      "text/plain": [
       "<IPython.core.display.Math object>"
      ]
     },
     "execution_count": 22,
     "metadata": {},
     "output_type": "execute_result"
    }
   ],
   "source": [
    "Math(latex(glt))"
   ]
  },
  {
   "cell_type": "code",
   "execution_count": 23,
   "metadata": {},
   "outputs": [],
   "source": [
    "# imports from sympy\n",
    "from sympy import Symbol\n",
    "from sympy import ratsimp\n",
    "from sympy import expand\n",
    "\n",
    "tx = Symbol(\"tx\")\n",
    "ty = Symbol(\"ty\")\n",
    "nx = Symbol(\"nx\", integer=True)\n",
    "ny = Symbol(\"ny\", integer=True)\n",
    "N  = Symbol(\"N\", integer=True)\n",
    "wx = Symbol('\\omega_x')\n",
    "wy = Symbol('\\omega_y')"
   ]
  },
  {
   "cell_type": "code",
   "execution_count": 24,
   "metadata": {},
   "outputs": [],
   "source": [
    "p = 3\n",
    "degrees = [p,p]\n",
    "\n",
    "sa = gelatize(a, degrees=degrees)\n",
    "sm = gelatize(mass, degrees=degrees)\n",
    "\n",
    "expr = sa/sm"
   ]
  },
  {
   "cell_type": "code",
   "execution_count": 25,
   "metadata": {},
   "outputs": [],
   "source": [
    "expr = expr.subs({nx: N, ny: N})"
   ]
  },
  {
   "cell_type": "code",
   "execution_count": 26,
   "metadata": {},
   "outputs": [
    {
     "data": {
      "text/latex": [
       "$\\displaystyle \\frac{N^{2} \\left(2 \\left(- \\frac{49 \\sin{\\left (\\theta_x \\right )}}{72} - \\frac{7 \\sin{\\left (2 \\theta_x \\right )}}{45} - \\frac{\\sin{\\left (3 \\theta_x \\right )}}{360}\\right) \\left(- \\frac{49 \\sin{\\left (\\theta_y \\right )}}{72} - \\frac{7 \\sin{\\left (2 \\theta_y \\right )}}{45} - \\frac{\\sin{\\left (3 \\theta_y \\right )}}{360}\\right) \\operatorname{b_{x}}{\\left (x,y \\right )} \\operatorname{b_{y}}{\\left (x,y \\right )} + \\left(- \\frac{\\cos{\\left (\\theta_x \\right )}}{4} - \\frac{2 \\cos{\\left (2 \\theta_x \\right )}}{5} - \\frac{\\cos{\\left (3 \\theta_x \\right )}}{60} + \\frac{2}{3}\\right) \\left(\\frac{397 \\cos{\\left (\\theta_y \\right )}}{840} + \\frac{\\cos{\\left (2 \\theta_y \\right )}}{21} + \\frac{\\cos{\\left (3 \\theta_y \\right )}}{2520} + \\frac{151}{315}\\right) \\operatorname{b_{x}}^{2}{\\left (x,y \\right )} + \\left(\\frac{397 \\cos{\\left (\\theta_x \\right )}}{840} + \\frac{\\cos{\\left (2 \\theta_x \\right )}}{21} + \\frac{\\cos{\\left (3 \\theta_x \\right )}}{2520} + \\frac{151}{315}\\right) \\left(- \\frac{\\cos{\\left (\\theta_y \\right )}}{4} - \\frac{2 \\cos{\\left (2 \\theta_y \\right )}}{5} - \\frac{\\cos{\\left (3 \\theta_y \\right )}}{60} + \\frac{2}{3}\\right) \\operatorname{b_{y}}^{2}{\\left (x,y \\right )}\\right)}{\\left(\\frac{397 \\cos{\\left (\\theta_x \\right )}}{840} + \\frac{\\cos{\\left (2 \\theta_x \\right )}}{21} + \\frac{\\cos{\\left (3 \\theta_x \\right )}}{2520} + \\frac{151}{315}\\right) \\left(\\frac{397 \\cos{\\left (\\theta_y \\right )}}{840} + \\frac{\\cos{\\left (2 \\theta_y \\right )}}{21} + \\frac{\\cos{\\left (3 \\theta_y \\right )}}{2520} + \\frac{151}{315}\\right)}$"
      ],
      "text/plain": [
       "<IPython.core.display.Math object>"
      ]
     },
     "execution_count": 26,
     "metadata": {},
     "output_type": "execute_result"
    }
   ],
   "source": [
    "Math(latex(expr))"
   ]
  },
  {
   "cell_type": "code",
   "execution_count": 27,
   "metadata": {},
   "outputs": [
    {
     "data": {
      "text/latex": [
       "$\\displaystyle - \\frac{42 \\operatorname{b_{x}}^{2}{\\left (x,y \\right )}}{5} - \\frac{42 \\operatorname{b_{y}}^{2}{\\left (x,y \\right )}}{5} - \\frac{- 55824552 \\operatorname{b_{x}}^{2}{\\left (x,y \\right )} \\cos{\\left (\\theta_x \\right )} \\cos{\\left (\\theta_y \\right )} - 5624640 \\operatorname{b_{x}}^{2}{\\left (x,y \\right )} \\cos{\\left (\\theta_x \\right )} \\cos{\\left (2 \\theta_y \\right )} - 46872 \\operatorname{b_{x}}^{2}{\\left (x,y \\right )} \\cos{\\left (\\theta_x \\right )} \\cos{\\left (3 \\theta_y \\right )} - 56621376 \\operatorname{b_{x}}^{2}{\\left (x,y \\right )} \\cos{\\left (\\theta_x \\right )} + 200088 \\operatorname{b_{x}}^{2}{\\left (x,y \\right )} \\cos{\\left (3 \\theta_x \\right )} \\cos{\\left (\\theta_y \\right )} + 20160 \\operatorname{b_{x}}^{2}{\\left (x,y \\right )} \\cos{\\left (3 \\theta_x \\right )} \\cos{\\left (2 \\theta_y \\right )} + 168 \\operatorname{b_{x}}^{2}{\\left (x,y \\right )} \\cos{\\left (3 \\theta_x \\right )} \\cos{\\left (3 \\theta_y \\right )} + 202944 \\operatorname{b_{x}}^{2}{\\left (x,y \\right )} \\cos{\\left (3 \\theta_x \\right )} - 70430976 \\operatorname{b_{x}}^{2}{\\left (x,y \\right )} \\cos{\\left (\\theta_y \\right )} - 7096320 \\operatorname{b_{x}}^{2}{\\left (x,y \\right )} \\cos{\\left (2 \\theta_y \\right )} - 59136 \\operatorname{b_{x}}^{2}{\\left (x,y \\right )} \\cos{\\left (3 \\theta_y \\right )} - 71436288 \\operatorname{b_{x}}^{2}{\\left (x,y \\right )} - 29412250 \\operatorname{b_{x}}{\\left (x,y \\right )} \\operatorname{b_{y}}{\\left (x,y \\right )} \\sin{\\left (\\theta_x \\right )} \\sin{\\left (\\theta_y \\right )} - 6722800 \\operatorname{b_{x}}{\\left (x,y \\right )} \\operatorname{b_{y}}{\\left (x,y \\right )} \\sin{\\left (\\theta_x \\right )} \\sin{\\left (2 \\theta_y \\right )} - 120050 \\operatorname{b_{x}}{\\left (x,y \\right )} \\operatorname{b_{y}}{\\left (x,y \\right )} \\sin{\\left (\\theta_x \\right )} \\sin{\\left (3 \\theta_y \\right )} - 6722800 \\operatorname{b_{x}}{\\left (x,y \\right )} \\operatorname{b_{y}}{\\left (x,y \\right )} \\sin{\\left (2 \\theta_x \\right )} \\sin{\\left (\\theta_y \\right )} - 1536640 \\operatorname{b_{x}}{\\left (x,y \\right )} \\operatorname{b_{y}}{\\left (x,y \\right )} \\sin{\\left (2 \\theta_x \\right )} \\sin{\\left (2 \\theta_y \\right )} - 27440 \\operatorname{b_{x}}{\\left (x,y \\right )} \\operatorname{b_{y}}{\\left (x,y \\right )} \\sin{\\left (2 \\theta_x \\right )} \\sin{\\left (3 \\theta_y \\right )} - 120050 \\operatorname{b_{x}}{\\left (x,y \\right )} \\operatorname{b_{y}}{\\left (x,y \\right )} \\sin{\\left (3 \\theta_x \\right )} \\sin{\\left (\\theta_y \\right )} - 27440 \\operatorname{b_{x}}{\\left (x,y \\right )} \\operatorname{b_{y}}{\\left (x,y \\right )} \\sin{\\left (3 \\theta_x \\right )} \\sin{\\left (2 \\theta_y \\right )} - 490 \\operatorname{b_{x}}{\\left (x,y \\right )} \\operatorname{b_{y}}{\\left (x,y \\right )} \\sin{\\left (3 \\theta_x \\right )} \\sin{\\left (3 \\theta_y \\right )} - 55824552 \\operatorname{b_{y}}^{2}{\\left (x,y \\right )} \\cos{\\left (\\theta_x \\right )} \\cos{\\left (\\theta_y \\right )} + 200088 \\operatorname{b_{y}}^{2}{\\left (x,y \\right )} \\cos{\\left (\\theta_x \\right )} \\cos{\\left (3 \\theta_y \\right )} - 70430976 \\operatorname{b_{y}}^{2}{\\left (x,y \\right )} \\cos{\\left (\\theta_x \\right )} - 5624640 \\operatorname{b_{y}}^{2}{\\left (x,y \\right )} \\cos{\\left (2 \\theta_x \\right )} \\cos{\\left (\\theta_y \\right )} + 20160 \\operatorname{b_{y}}^{2}{\\left (x,y \\right )} \\cos{\\left (2 \\theta_x \\right )} \\cos{\\left (3 \\theta_y \\right )} - 7096320 \\operatorname{b_{y}}^{2}{\\left (x,y \\right )} \\cos{\\left (2 \\theta_x \\right )} - 46872 \\operatorname{b_{y}}^{2}{\\left (x,y \\right )} \\cos{\\left (3 \\theta_x \\right )} \\cos{\\left (\\theta_y \\right )} + 168 \\operatorname{b_{y}}^{2}{\\left (x,y \\right )} \\cos{\\left (3 \\theta_x \\right )} \\cos{\\left (3 \\theta_y \\right )} - 59136 \\operatorname{b_{y}}^{2}{\\left (x,y \\right )} \\cos{\\left (3 \\theta_x \\right )} - 56621376 \\operatorname{b_{y}}^{2}{\\left (x,y \\right )} \\cos{\\left (\\theta_y \\right )} + 202944 \\operatorname{b_{y}}^{2}{\\left (x,y \\right )} \\cos{\\left (3 \\theta_y \\right )} - 71436288 \\operatorname{b_{y}}^{2}{\\left (x,y \\right )}}{7092405 \\cos{\\left (\\theta_x \\right )} \\cos{\\left (\\theta_y \\right )} + 714600 \\cos{\\left (\\theta_x \\right )} \\cos{\\left (2 \\theta_y \\right )} + 5955 \\cos{\\left (\\theta_x \\right )} \\cos{\\left (3 \\theta_y \\right )} + 7193640 \\cos{\\left (\\theta_x \\right )} + 714600 \\cos{\\left (2 \\theta_x \\right )} \\cos{\\left (\\theta_y \\right )} + 72000 \\cos{\\left (2 \\theta_x \\right )} \\cos{\\left (2 \\theta_y \\right )} + 600 \\cos{\\left (2 \\theta_x \\right )} \\cos{\\left (3 \\theta_y \\right )} + 724800 \\cos{\\left (2 \\theta_x \\right )} + 5955 \\cos{\\left (3 \\theta_x \\right )} \\cos{\\left (\\theta_y \\right )} + 600 \\cos{\\left (3 \\theta_x \\right )} \\cos{\\left (2 \\theta_y \\right )} + 5 \\cos{\\left (3 \\theta_x \\right )} \\cos{\\left (3 \\theta_y \\right )} + 6040 \\cos{\\left (3 \\theta_x \\right )} + 7193640 \\cos{\\left (\\theta_y \\right )} + 724800 \\cos{\\left (2 \\theta_y \\right )} + 6040 \\cos{\\left (3 \\theta_y \\right )} + 7296320}$"
      ],
      "text/plain": [
       "<IPython.core.display.Math object>"
      ]
     },
     "execution_count": 27,
     "metadata": {},
     "output_type": "execute_result"
    }
   ],
   "source": [
    "Math(latex(ratsimp(expr/N**2)))"
   ]
  },
  {
   "cell_type": "code",
   "execution_count": 28,
   "metadata": {},
   "outputs": [],
   "source": [
    "expr = expr.subs({tx: wx / N, ty: wy / N})\n",
    "expr = expr.subs({nx: N-p, ny: N-p}) #N = nx + p\n",
    "expr = expand(expr)"
   ]
  },
  {
   "cell_type": "code",
   "execution_count": 32,
   "metadata": {},
   "outputs": [
    {
     "data": {
      "text/latex": [
       "$\\displaystyle \\frac{\\frac{\\omega_x^{8} \\operatorname{b_{x}}^{2}{\\left (x,y \\right )}}{30240} + \\frac{\\omega_y^{8} \\operatorname{b_{y}}^{2}{\\left (x,y \\right )}}{30240}}{N^{6}} + O\\left(\\frac{1}{N^{8}}; N\\rightarrow \\infty\\right)$"
      ],
      "text/plain": [
       "<IPython.core.display.Math object>"
      ]
     },
     "execution_count": 32,
     "metadata": {},
     "output_type": "execute_result"
    }
   ],
   "source": [
    "e_exact = (wx*bx(x,y) + wy*by(x,y))**2\n",
    "\n",
    "# here we consider an expansion up to the forth order\n",
    "order = 8\n",
    "e = expr - e_exact.expand()\n",
    "e = e.series(1/N, 0, order)\n",
    "Math(latex(e))"
   ]
  },
  {
   "cell_type": "code",
   "execution_count": 4,
   "metadata": {},
   "outputs": [
    {
     "data": {
      "text/html": [
       "<link href='http://fonts.googleapis.com/css?family=Fenix' rel='stylesheet' type='text/css'>\n",
       "<link href='http://fonts.googleapis.com/css?family=Alegreya+Sans:100,300,400,500,700,800,900,100italic,300italic,400italic,500italic,700italic,800italic,900italic' rel='stylesheet' type='text/css'>\n",
       "<link href='http://fonts.googleapis.com/css?family=Source+Code+Pro:300,400' rel='stylesheet' type='text/css'>\n",
       "<style>\n",
       "    @font-face {\n",
       "        font-family: \"Computer Modern\";\n",
       "        src: url('http://mirrors.ctan.org/fonts/cm-unicode/fonts/otf/cmunss.otf');\n",
       "    }\n",
       "    div.cell{\n",
       "        width:600px;\n",
       "        margin-left:16% !important;\n",
       "        margin-right:auto;\n",
       "    }\n",
       "    h1 {\n",
       "        font-family: 'Alegreya Sans', sans-serif;\n",
       "    }\n",
       "    h2 {\n",
       "        font-family: 'Fenix', serif;\n",
       "    }\n",
       "    h3{\n",
       "\t\tfont-family: 'Fenix', serif;\n",
       "        margin-top:12px;\n",
       "        margin-bottom: 3px;\n",
       "       }\n",
       "\th4{\n",
       "\t\tfont-family: 'Fenix', serif;\n",
       "       }\n",
       "    h5 {\n",
       "        font-family: 'Alegreya Sans', sans-serif;\n",
       "    }\t   \n",
       "    div.text_cell_render{\n",
       "        font-family: 'Alegreya Sans',Computer Modern, \"Helvetica Neue\", Arial, Helvetica, Geneva, sans-serif;\n",
       "        line-height: 135%;\n",
       "        font-size: 120%;\n",
       "        width:600px;\n",
       "        margin-left:auto;\n",
       "        margin-right:auto;\n",
       "    }\n",
       "    .CodeMirror{\n",
       "            font-family: \"Source Code Pro\";\n",
       "\t\t\tfont-size: 90%;\n",
       "    }\n",
       "/*    .prompt{\n",
       "        display: None;\n",
       "    }*/\n",
       "    .text_cell_render h1 {\n",
       "        font-weight: 200;\n",
       "        font-size: 50pt;\n",
       "\t\tline-height: 100%;\n",
       "        color:#054BCD;\n",
       "        margin-bottom: 0.5em;\n",
       "        margin-top: 0.5em;\n",
       "        display: block;\n",
       "    }\t\n",
       "    .text_cell_render h5 {\n",
       "        font-weight: 300;\n",
       "        font-size: 16pt;\n",
       "        color: #054BCD;\n",
       "        font-style: italic;\n",
       "        margin-bottom: .5em;\n",
       "        margin-top: 0.5em;\n",
       "        display: block;\n",
       "    }\n",
       "    \n",
       "    .warning{\n",
       "        color: rgb( 240, 20, 20 )\n",
       "        }  \n",
       "</style>\n",
       "<script>\n",
       "    MathJax.Hub.Config({\n",
       "                        TeX: {\n",
       "                           extensions: [\"AMSmath.js\"]\n",
       "                           },\n",
       "                tex2jax: {\n",
       "                    inlineMath: [ ['$','$'], [\"\\\\(\",\"\\\\)\"] ],\n",
       "                    displayMath: [ ['$$','$$'], [\"\\\\[\",\"\\\\]\"] ]\n",
       "                },\n",
       "                displayAlign: 'center', // Change this to 'center' to center equations.\n",
       "                \"HTML-CSS\": {\n",
       "                    styles: {'.MathJax_Display': {\"margin\": 4}}\n",
       "                }\n",
       "        });\n",
       "</script>\n"
      ],
      "text/plain": [
       "<IPython.core.display.HTML object>"
      ]
     },
     "execution_count": 4,
     "metadata": {},
     "output_type": "execute_result"
    }
   ],
   "source": [
    "# css style\n",
    "from IPython.core.display import HTML\n",
    "def css_styling():\n",
    "    styles = open(\"../styles/custom.css\", \"r\").read()\n",
    "    return HTML(styles)\n",
    "css_styling()"
   ]
  },
  {
   "cell_type": "code",
   "execution_count": null,
   "metadata": {},
   "outputs": [],
   "source": []
  }
 ],
 "metadata": {
  "kernelspec": {
   "display_name": "Python 3",
   "language": "python",
   "name": "python3"
  },
  "language_info": {
   "codemirror_mode": {
    "name": "ipython",
    "version": 3
   },
   "file_extension": ".py",
   "mimetype": "text/x-python",
   "name": "python",
   "nbconvert_exporter": "python",
   "pygments_lexer": "ipython3",
   "version": "3.6.8"
  }
 },
 "nbformat": 4,
 "nbformat_minor": 2
}
