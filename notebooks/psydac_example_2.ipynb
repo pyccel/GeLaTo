{
 "cells": [
  {
   "cell_type": "markdown",
   "metadata": {},
   "source": [
    "# 2D Poisson"
   ]
  },
  {
   "cell_type": "code",
   "execution_count": 9,
   "metadata": {},
   "outputs": [],
   "source": [
    "from sympy.core.containers import Tuple\n",
    "from scipy.linalg import eig as eig_solver\n",
    "import matplotlib.pyplot as plt\n",
    "from IPython.display import Math\n",
    "\n",
    "from sympde.core     import Constant\n",
    "from sympde.calculus import grad, dot\n",
    "from sympde.topology import ScalarFunctionSpace\n",
    "from sympde.topology import Square\n",
    "from sympde.topology import element_of\n",
    "from sympde.expr     import BilinearForm\n",
    "from sympde.expr     import integral\n",
    "from gelato          import GltExpr\n",
    "from psydac.api.discretization import discretize"
   ]
  },
  {
   "cell_type": "code",
   "execution_count": 13,
   "metadata": {},
   "outputs": [],
   "source": [
    "# abstract model\n",
    "domain = Square()\n",
    "\n",
    "V = ScalarFunctionSpace('V', domain)\n",
    "\n",
    "u = element_of(V, name='u')\n",
    "v = element_of(V, name='v')\n",
    "\n",
    "k_para = Constant('k_para', real=True)\n",
    "k_perp = Constant('k_perp', real=True)\n",
    "\n",
    "bx = Constant('b_x', real=True)\n",
    "by = Constant('b_y', real=True)\n",
    "b = Tuple(bx, by)\n",
    "\n",
    "expr = k_para * dot(b, grad(v)) * dot(b, grad(u)) + k_perp * dot(grad(v), grad(u))\n",
    "a = BilinearForm((v,u), integral(domain, expr))\n",
    "\n",
    "glt_a = GltExpr(a)"
   ]
  },
  {
   "cell_type": "code",
   "execution_count": 14,
   "metadata": {},
   "outputs": [],
   "source": [
    "ncells = [16,16]\n",
    "degrees = [3,3]"
   ]
  },
  {
   "cell_type": "code",
   "execution_count": 15,
   "metadata": {},
   "outputs": [],
   "source": [
    "# create the computational domain from a topological domain\n",
    "domain_h = discretize(domain, ncells=ncells)\n",
    "\n",
    "# discrete spaces\n",
    "Vh = discretize(V, domain_h, degree=degrees)\n",
    "\n",
    "# dsicretize the equation using Dirichlet bc\n",
    "ah = discretize(a, domain_h, [Vh, Vh])\n",
    "\n",
    "# dsicretize the glt symbol\n",
    "glt_ah = discretize(glt_a, domain_h, [Vh, Vh])"
   ]
  },
  {
   "cell_type": "code",
   "execution_count": 20,
   "metadata": {},
   "outputs": [],
   "source": [
    "# ...\n",
    "eigh = glt_ah.eig(k_perp=1., k_para=1.e4, b_x=1., b_y=1.)\n",
    "eigh = eigh.ravel()\n",
    "eigh.sort()\n",
    "# ..."
   ]
  },
  {
   "cell_type": "code",
   "execution_count": 21,
   "metadata": {},
   "outputs": [],
   "source": [
    "#  use eigenvalue solver\n",
    "M = ah.assemble(k_perp=1., k_para=1.e4, b_x=1., b_y=1.).tosparse().todense()\n",
    "w, v = eig_solver(M)\n",
    "eig = w.real\n",
    "eig.sort()"
   ]
  },
  {
   "cell_type": "code",
   "execution_count": 22,
   "metadata": {},
   "outputs": [
    {
     "data": {
      "image/png": "[encoded data removed]",
      "text/plain": [
       "<Figure size 432x288 with 1 Axes>"
      ]
     },
     "metadata": {
      "needs_background": "light"
     },
     "output_type": "display_data"
    }
   ],
   "source": [
    "plt.plot(eigh, \"+b\", label=\"glt symbol\")\n",
    "plt.plot(eig, \"xr\", label=\"eigenvalues\")\n",
    "plt.legend(loc=2);"
   ]
  },
  {
   "cell_type": "code",
   "execution_count": null,
   "metadata": {},
   "outputs": [],
   "source": []
  }
 ],
 "metadata": {
  "kernelspec": {
   "display_name": "Python 3",
   "language": "python",
   "name": "python3"
  },
  "language_info": {
   "codemirror_mode": {
    "name": "ipython",
    "version": 3
   },
   "file_extension": ".py",
   "mimetype": "text/x-python",
   "name": "python",
   "nbconvert_exporter": "python",
   "pygments_lexer": "ipython3",
   "version": "3.6.8"
  }
 },
 "nbformat": 4,
 "nbformat_minor": 2
}
